{
 "cells": [
  {
   "cell_type": "code",
   "execution_count": 1,
   "metadata": {
    "id": "nIU83V5zIUt8"
   },
   "outputs": [
    {
     "name": "stdout",
     "output_type": "stream",
     "text": [
      "Requirement already satisfied: kmodes in c:\\users\\jlope\\anaconda3\\lib\\site-packages (0.12.1)\n",
      "Requirement already satisfied: scipy>=0.13.3 in c:\\users\\jlope\\anaconda3\\lib\\site-packages (from kmodes) (1.7.1)\n",
      "Requirement already satisfied: scikit-learn>=0.22.0 in c:\\users\\jlope\\anaconda3\\lib\\site-packages (from kmodes) (0.24.2)\n",
      "Requirement already satisfied: joblib>=0.11 in c:\\users\\jlope\\anaconda3\\lib\\site-packages (from kmodes) (1.1.0)\n",
      "Requirement already satisfied: numpy>=1.10.4 in c:\\users\\jlope\\anaconda3\\lib\\site-packages (from kmodes) (1.20.3)\n",
      "Requirement already satisfied: threadpoolctl>=2.0.0 in c:\\users\\jlope\\anaconda3\\lib\\site-packages (from scikit-learn>=0.22.0->kmodes) (2.2.0)\n"
     ]
    }
   ],
   "source": [
    "!pip install kmodes\n",
    "import pandas as pd\n",
    "import numpy as np\n",
    "from sklearn.compose import ColumnTransformer\n",
    "from sklearn.preprocessing import StandardScaler, OrdinalEncoder, OneHotEncoder\n",
    "from sklearn.model_selection import train_test_split, KFold, GridSearchCV, StratifiedKFold, cross_val_score, cross_val_predict\n",
    "from sklearn.svm import LinearSVC, SVC\n",
    "from sklearn.ensemble import RandomForestClassifier\n",
    "from sklearn.linear_model import LogisticRegression\n",
    "from sklearn.neighbors import KNeighborsClassifier\n",
    "from sklearn.model_selection import cross_val_score, cross_val_predict\n",
    "from sklearn.metrics import confusion_matrix, classification_report, precision_score, accuracy_score, recall_score, f1_score\n",
    "from sklearn.cluster import KMeans\n",
    "from mpl_toolkits.mplot3d import Axes3D\n",
    "from kmodes.kmodes import KModes\n",
    "import matplotlib.pyplot as plt\n",
    "import pickle\n",
    "import time\n",
    "import seaborn as sns\n",
    "%matplotlib inline"
   ]
  },
  {
   "cell_type": "code",
   "execution_count": 2,
   "metadata": {
    "colab": {
     "base_uri": "https://localhost:8080/",
     "height": 1000
    },
    "id": "D2P1SBzaKkPZ",
    "outputId": "61c3bcf1-b774-45d0-e0df-574787ff2fc1"
   },
   "outputs": [
    {
     "data": {
      "text/html": [
       "<div>\n",
       "<style scoped>\n",
       "    .dataframe tbody tr th:only-of-type {\n",
       "        vertical-align: middle;\n",
       "    }\n",
       "\n",
       "    .dataframe tbody tr th {\n",
       "        vertical-align: top;\n",
       "    }\n",
       "\n",
       "    .dataframe thead th {\n",
       "        text-align: right;\n",
       "    }\n",
       "</style>\n",
       "<table border=\"1\" class=\"dataframe\">\n",
       "  <thead>\n",
       "    <tr style=\"text-align: right;\">\n",
       "      <th></th>\n",
       "      <th>S_1</th>\n",
       "      <th>I_6</th>\n",
       "      <th>I_7</th>\n",
       "      <th>I_8</th>\n",
       "      <th>I_9</th>\n",
       "      <th>I_10</th>\n",
       "      <th>I_19</th>\n",
       "      <th>I_21_1</th>\n",
       "      <th>I_21_2</th>\n",
       "      <th>I_21_3</th>\n",
       "      <th>...</th>\n",
       "      <th>I_91_10</th>\n",
       "      <th>I_30</th>\n",
       "      <th>I_41</th>\n",
       "      <th>I_44</th>\n",
       "      <th>I_45</th>\n",
       "      <th>I_47</th>\n",
       "      <th>Condiciones Territoriales</th>\n",
       "      <th>Prácticas</th>\n",
       "      <th>Efectos</th>\n",
       "      <th>IPCM</th>\n",
       "    </tr>\n",
       "  </thead>\n",
       "  <tbody>\n",
       "    <tr>\n",
       "      <th>0</th>\n",
       "      <td>1</td>\n",
       "      <td>Femenino</td>\n",
       "      <td>1985</td>\n",
       "      <td>Sin pertenencia étnica</td>\n",
       "      <td>Desplazados o víctima del Conflicto Armado</td>\n",
       "      <td>Básica Secundaria</td>\n",
       "      <td>Si</td>\n",
       "      <td>No</td>\n",
       "      <td>No</td>\n",
       "      <td>No</td>\n",
       "      <td>...</td>\n",
       "      <td>No</td>\n",
       "      <td>Si</td>\n",
       "      <td>No</td>\n",
       "      <td>Si</td>\n",
       "      <td>Si</td>\n",
       "      <td>Mejorado</td>\n",
       "      <td>0.361794798490289</td>\n",
       "      <td>0.387014340398247</td>\n",
       "      <td>0.44463337516526</td>\n",
       "      <td>0.4</td>\n",
       "    </tr>\n",
       "    <tr>\n",
       "      <th>1</th>\n",
       "      <td>1</td>\n",
       "      <td>Masculino</td>\n",
       "      <td>1953</td>\n",
       "      <td>Sin pertenencia étnica</td>\n",
       "      <td>Ninguno</td>\n",
       "      <td>Básica Primaria</td>\n",
       "      <td>No</td>\n",
       "      <td>No</td>\n",
       "      <td>Si</td>\n",
       "      <td>No</td>\n",
       "      <td>...</td>\n",
       "      <td>Si</td>\n",
       "      <td>Si</td>\n",
       "      <td>Si</td>\n",
       "      <td>Si</td>\n",
       "      <td>No</td>\n",
       "      <td>Mejorado</td>\n",
       "      <td>0.327151236848329</td>\n",
       "      <td>0.461778890169669</td>\n",
       "      <td>0.238168161836116</td>\n",
       "      <td>0.33</td>\n",
       "    </tr>\n",
       "    <tr>\n",
       "      <th>2</th>\n",
       "      <td>1</td>\n",
       "      <td>Femenino</td>\n",
       "      <td>1970</td>\n",
       "      <td>Sin pertenencia étnica</td>\n",
       "      <td>Desplazados o víctima del Conflicto Armado</td>\n",
       "      <td>Ninguno</td>\n",
       "      <td>No</td>\n",
       "      <td>No</td>\n",
       "      <td>No</td>\n",
       "      <td>No</td>\n",
       "      <td>...</td>\n",
       "      <td>No</td>\n",
       "      <td>Si</td>\n",
       "      <td>No</td>\n",
       "      <td>No</td>\n",
       "      <td>No</td>\n",
       "      <td>Empeorado</td>\n",
       "      <td>0.299800315453029</td>\n",
       "      <td>0.372016686965189</td>\n",
       "      <td>0.673631667238401</td>\n",
       "      <td>0.42</td>\n",
       "    </tr>\n",
       "    <tr>\n",
       "      <th>3</th>\n",
       "      <td>1</td>\n",
       "      <td>Femenino</td>\n",
       "      <td>1989</td>\n",
       "      <td>Sin pertenencia étnica</td>\n",
       "      <td>Desplazados o víctima del Conflicto Armado</td>\n",
       "      <td>Básica Secundaria</td>\n",
       "      <td>Si</td>\n",
       "      <td>No</td>\n",
       "      <td>No</td>\n",
       "      <td>No</td>\n",
       "      <td>...</td>\n",
       "      <td>No</td>\n",
       "      <td>Si</td>\n",
       "      <td>No</td>\n",
       "      <td>Si</td>\n",
       "      <td>No</td>\n",
       "      <td>Mejorado</td>\n",
       "      <td>0.558784023179863</td>\n",
       "      <td>0.633541759101517</td>\n",
       "      <td>0.323002606500402</td>\n",
       "      <td>0.49</td>\n",
       "    </tr>\n",
       "    <tr>\n",
       "      <th>4</th>\n",
       "      <td>1</td>\n",
       "      <td>Femenino</td>\n",
       "      <td>1953</td>\n",
       "      <td>Mestizo</td>\n",
       "      <td>Ninguno</td>\n",
       "      <td>Ninguno</td>\n",
       "      <td>Si</td>\n",
       "      <td>No</td>\n",
       "      <td>No</td>\n",
       "      <td>No</td>\n",
       "      <td>...</td>\n",
       "      <td>No</td>\n",
       "      <td>No</td>\n",
       "      <td>No</td>\n",
       "      <td>Si</td>\n",
       "      <td>No</td>\n",
       "      <td>Permanecen iguales</td>\n",
       "      <td>0.250182909249344</td>\n",
       "      <td>0.521447482222032</td>\n",
       "      <td>0.238168161836116</td>\n",
       "      <td>0.31</td>\n",
       "    </tr>\n",
       "    <tr>\n",
       "      <th>...</th>\n",
       "      <td>...</td>\n",
       "      <td>...</td>\n",
       "      <td>...</td>\n",
       "      <td>...</td>\n",
       "      <td>...</td>\n",
       "      <td>...</td>\n",
       "      <td>...</td>\n",
       "      <td>...</td>\n",
       "      <td>...</td>\n",
       "      <td>...</td>\n",
       "      <td>...</td>\n",
       "      <td>...</td>\n",
       "      <td>...</td>\n",
       "      <td>...</td>\n",
       "      <td>...</td>\n",
       "      <td>...</td>\n",
       "      <td>...</td>\n",
       "      <td>...</td>\n",
       "      <td>...</td>\n",
       "      <td>...</td>\n",
       "      <td>...</td>\n",
       "    </tr>\n",
       "    <tr>\n",
       "      <th>11356</th>\n",
       "      <td>12</td>\n",
       "      <td>Hombre</td>\n",
       "      <td>1999</td>\n",
       "      <td>No se identifica con ninguno de los anteriores</td>\n",
       "      <td>Ninguna</td>\n",
       "      <td>Básica secundaria</td>\n",
       "      <td>No</td>\n",
       "      <td>No</td>\n",
       "      <td>No</td>\n",
       "      <td>No</td>\n",
       "      <td>...</td>\n",
       "      <td>No</td>\n",
       "      <td>Si</td>\n",
       "      <td>No</td>\n",
       "      <td>No</td>\n",
       "      <td>No</td>\n",
       "      <td>Permanecen iguales</td>\n",
       "      <td>0.21317564171051</td>\n",
       "      <td>0.439428896142171</td>\n",
       "      <td>0.30527580531839</td>\n",
       "      <td>0.305801439570261</td>\n",
       "    </tr>\n",
       "    <tr>\n",
       "      <th>11357</th>\n",
       "      <td>12</td>\n",
       "      <td>Hombre</td>\n",
       "      <td>1994</td>\n",
       "      <td>Mestizo</td>\n",
       "      <td>Ninguna</td>\n",
       "      <td>Básica secundaria</td>\n",
       "      <td>No</td>\n",
       "      <td>No</td>\n",
       "      <td>No</td>\n",
       "      <td>No</td>\n",
       "      <td>...</td>\n",
       "      <td>No</td>\n",
       "      <td>No</td>\n",
       "      <td>No</td>\n",
       "      <td>No</td>\n",
       "      <td>No</td>\n",
       "      <td>Permanecen iguales</td>\n",
       "      <td>0.194827985413158</td>\n",
       "      <td>0.879479847931544</td>\n",
       "      <td>0.315275008033687</td>\n",
       "      <td>0.378026512143469</td>\n",
       "    </tr>\n",
       "    <tr>\n",
       "      <th>11358</th>\n",
       "      <td>12</td>\n",
       "      <td>Hombre</td>\n",
       "      <td>1968</td>\n",
       "      <td>No se identifica con ninguno de los anteriores</td>\n",
       "      <td>Ninguna</td>\n",
       "      <td>Básica secundaria</td>\n",
       "      <td>No</td>\n",
       "      <td>No</td>\n",
       "      <td>No</td>\n",
       "      <td>No</td>\n",
       "      <td>...</td>\n",
       "      <td>No</td>\n",
       "      <td>Si</td>\n",
       "      <td>No</td>\n",
       "      <td>Si</td>\n",
       "      <td>No</td>\n",
       "      <td>Permanecen iguales</td>\n",
       "      <td>0.532416558719664</td>\n",
       "      <td>0.481449785781779</td>\n",
       "      <td>0.311142120812354</td>\n",
       "      <td>0.430447761005128</td>\n",
       "    </tr>\n",
       "    <tr>\n",
       "      <th>11359</th>\n",
       "      <td>12</td>\n",
       "      <td>Hombre</td>\n",
       "      <td>1998</td>\n",
       "      <td>No se identifica con ninguno de los anteriores</td>\n",
       "      <td>Ninguna</td>\n",
       "      <td>Básica secundaria</td>\n",
       "      <td>No</td>\n",
       "      <td>No</td>\n",
       "      <td>No</td>\n",
       "      <td>No</td>\n",
       "      <td>...</td>\n",
       "      <td>No</td>\n",
       "      <td>No</td>\n",
       "      <td>No</td>\n",
       "      <td>No</td>\n",
       "      <td>No</td>\n",
       "      <td>Mejorado</td>\n",
       "      <td>0.548475866469842</td>\n",
       "      <td>0.593568976891309</td>\n",
       "      <td>0.354381149153931</td>\n",
       "      <td>0.486817792953296</td>\n",
       "    </tr>\n",
       "    <tr>\n",
       "      <th>11360</th>\n",
       "      <td>12</td>\n",
       "      <td>Hombre</td>\n",
       "      <td>1997</td>\n",
       "      <td>No se identifica con ninguno de los anteriores</td>\n",
       "      <td>Ninguna</td>\n",
       "      <td>Universidad</td>\n",
       "      <td>No</td>\n",
       "      <td>No</td>\n",
       "      <td>No</td>\n",
       "      <td>No</td>\n",
       "      <td>...</td>\n",
       "      <td>No</td>\n",
       "      <td>No</td>\n",
       "      <td>No</td>\n",
       "      <td>Si</td>\n",
       "      <td>No</td>\n",
       "      <td>Mejorado</td>\n",
       "      <td>0.531754343184856</td>\n",
       "      <td>0.351751057481612</td>\n",
       "      <td>0.356533297312793</td>\n",
       "      <td>0.40552302487934</td>\n",
       "    </tr>\n",
       "  </tbody>\n",
       "</table>\n",
       "<p>11361 rows × 73 columns</p>\n",
       "</div>"
      ],
      "text/plain": [
       "       S_1        I_6   I_7                                             I_8  \\\n",
       "0        1   Femenino  1985                          Sin pertenencia étnica   \n",
       "1        1  Masculino  1953                          Sin pertenencia étnica   \n",
       "2        1   Femenino  1970                          Sin pertenencia étnica   \n",
       "3        1   Femenino  1989                          Sin pertenencia étnica   \n",
       "4        1   Femenino  1953                                         Mestizo   \n",
       "...    ...        ...   ...                                             ...   \n",
       "11356   12     Hombre  1999  No se identifica con ninguno de los anteriores   \n",
       "11357   12     Hombre  1994                                         Mestizo   \n",
       "11358   12     Hombre  1968  No se identifica con ninguno de los anteriores   \n",
       "11359   12     Hombre  1998  No se identifica con ninguno de los anteriores   \n",
       "11360   12     Hombre  1997  No se identifica con ninguno de los anteriores   \n",
       "\n",
       "                                              I_9               I_10 I_19  \\\n",
       "0      Desplazados o víctima del Conflicto Armado  Básica Secundaria   Si   \n",
       "1                                         Ninguno    Básica Primaria   No   \n",
       "2      Desplazados o víctima del Conflicto Armado            Ninguno   No   \n",
       "3      Desplazados o víctima del Conflicto Armado  Básica Secundaria   Si   \n",
       "4                                         Ninguno            Ninguno   Si   \n",
       "...                                           ...                ...  ...   \n",
       "11356                                     Ninguna  Básica secundaria   No   \n",
       "11357                                     Ninguna  Básica secundaria   No   \n",
       "11358                                     Ninguna  Básica secundaria   No   \n",
       "11359                                     Ninguna  Básica secundaria   No   \n",
       "11360                                     Ninguna        Universidad   No   \n",
       "\n",
       "      I_21_1 I_21_2 I_21_3  ... I_91_10 I_30 I_41 I_44 I_45  \\\n",
       "0         No     No     No  ...      No   Si   No   Si   Si   \n",
       "1         No     Si     No  ...      Si   Si   Si   Si   No   \n",
       "2         No     No     No  ...      No   Si   No   No   No   \n",
       "3         No     No     No  ...      No   Si   No   Si   No   \n",
       "4         No     No     No  ...      No   No   No   Si   No   \n",
       "...      ...    ...    ...  ...     ...  ...  ...  ...  ...   \n",
       "11356     No     No     No  ...      No   Si   No   No   No   \n",
       "11357     No     No     No  ...      No   No   No   No   No   \n",
       "11358     No     No     No  ...      No   Si   No   Si   No   \n",
       "11359     No     No     No  ...      No   No   No   No   No   \n",
       "11360     No     No     No  ...      No   No   No   Si   No   \n",
       "\n",
       "                     I_47 Condiciones Territoriales          Prácticas  \\\n",
       "0                Mejorado         0.361794798490289  0.387014340398247   \n",
       "1                Mejorado         0.327151236848329  0.461778890169669   \n",
       "2               Empeorado         0.299800315453029  0.372016686965189   \n",
       "3                Mejorado         0.558784023179863  0.633541759101517   \n",
       "4      Permanecen iguales         0.250182909249344  0.521447482222032   \n",
       "...                   ...                       ...                ...   \n",
       "11356  Permanecen iguales          0.21317564171051  0.439428896142171   \n",
       "11357  Permanecen iguales         0.194827985413158  0.879479847931544   \n",
       "11358  Permanecen iguales         0.532416558719664  0.481449785781779   \n",
       "11359            Mejorado         0.548475866469842  0.593568976891309   \n",
       "11360            Mejorado         0.531754343184856  0.351751057481612   \n",
       "\n",
       "                 Efectos               IPCM  \n",
       "0       0.44463337516526                0.4  \n",
       "1      0.238168161836116               0.33  \n",
       "2      0.673631667238401               0.42  \n",
       "3      0.323002606500402               0.49  \n",
       "4      0.238168161836116               0.31  \n",
       "...                  ...                ...  \n",
       "11356   0.30527580531839  0.305801439570261  \n",
       "11357  0.315275008033687  0.378026512143469  \n",
       "11358  0.311142120812354  0.430447761005128  \n",
       "11359  0.354381149153931  0.486817792953296  \n",
       "11360  0.356533297312793   0.40552302487934  \n",
       "\n",
       "[11361 rows x 73 columns]"
      ]
     },
     "execution_count": 2,
     "metadata": {},
     "output_type": "execute_result"
    }
   ],
   "source": [
    "# Individuos = pd.read_csv(r'C:\\Users\\jlope\\Documents\\IPCM_2021\\IPCM-2021\\Modelos\\Inputs\\BDIndividuosTotal.csv',decimal=',')\n",
    "# Organizaciones = pd.read_csv(r'C:\\Users\\jlope\\Documents\\IPCM_2021\\IPCM-2021\\Modelos\\Inputs\\BDOrganizacionesTotal.csv',decimal=',')\n",
    "Individuos = pd.read_csv(r'C:/Users/jlope/Documents/Maestría en Ingeniería - Analítica/Tesis/Modelos/BDIndividuosTotal.csv',decimal=',')\n",
    "Organizaciones = pd.read_csv(r'C:/Users/jlope/Documents/Maestría en Ingeniería - Analítica/Tesis/Modelos/BDOrganizacionesTotal.csv',decimal=',')\n",
    "Individuos"
   ]
  },
  {
   "cell_type": "code",
   "execution_count": 3,
   "metadata": {
    "colab": {
     "base_uri": "https://localhost:8080/",
     "height": 1000
    },
    "id": "gYHocX7btSBm",
    "outputId": "ffa40286-91aa-44eb-ee43-03dba5f7138f"
   },
   "outputs": [
    {
     "data": {
      "text/html": [
       "<div>\n",
       "<style scoped>\n",
       "    .dataframe tbody tr th:only-of-type {\n",
       "        vertical-align: middle;\n",
       "    }\n",
       "\n",
       "    .dataframe tbody tr th {\n",
       "        vertical-align: top;\n",
       "    }\n",
       "\n",
       "    .dataframe thead th {\n",
       "        text-align: right;\n",
       "    }\n",
       "</style>\n",
       "<table border=\"1\" class=\"dataframe\">\n",
       "  <thead>\n",
       "    <tr style=\"text-align: right;\">\n",
       "      <th></th>\n",
       "      <th>S_1</th>\n",
       "      <th>I_6</th>\n",
       "      <th>I_7</th>\n",
       "      <th>I_8</th>\n",
       "      <th>I_9</th>\n",
       "      <th>I_10</th>\n",
       "      <th>I_19</th>\n",
       "      <th>I_21_1</th>\n",
       "      <th>I_21_2</th>\n",
       "      <th>I_21_3</th>\n",
       "      <th>...</th>\n",
       "      <th>I_91_7</th>\n",
       "      <th>I_91_8</th>\n",
       "      <th>I_91_9</th>\n",
       "      <th>I_91_10</th>\n",
       "      <th>I_30</th>\n",
       "      <th>I_41</th>\n",
       "      <th>I_44</th>\n",
       "      <th>I_45</th>\n",
       "      <th>I_47</th>\n",
       "      <th>IPCM</th>\n",
       "    </tr>\n",
       "  </thead>\n",
       "  <tbody>\n",
       "    <tr>\n",
       "      <th>0</th>\n",
       "      <td>1</td>\n",
       "      <td>Femenino</td>\n",
       "      <td>1985</td>\n",
       "      <td>Sin pertenencia étnica</td>\n",
       "      <td>Desplazados o víctima del Conflicto Armado</td>\n",
       "      <td>Básica Secundaria</td>\n",
       "      <td>Si</td>\n",
       "      <td>No</td>\n",
       "      <td>No</td>\n",
       "      <td>No</td>\n",
       "      <td>...</td>\n",
       "      <td>No</td>\n",
       "      <td>No</td>\n",
       "      <td>No</td>\n",
       "      <td>No</td>\n",
       "      <td>Si</td>\n",
       "      <td>No</td>\n",
       "      <td>Si</td>\n",
       "      <td>Si</td>\n",
       "      <td>Mejorado</td>\n",
       "      <td>0.4</td>\n",
       "    </tr>\n",
       "    <tr>\n",
       "      <th>1</th>\n",
       "      <td>1</td>\n",
       "      <td>Masculino</td>\n",
       "      <td>1953</td>\n",
       "      <td>Sin pertenencia étnica</td>\n",
       "      <td>Ninguno</td>\n",
       "      <td>Básica Primaria</td>\n",
       "      <td>No</td>\n",
       "      <td>No</td>\n",
       "      <td>Si</td>\n",
       "      <td>No</td>\n",
       "      <td>...</td>\n",
       "      <td>Si</td>\n",
       "      <td>No</td>\n",
       "      <td>No</td>\n",
       "      <td>Si</td>\n",
       "      <td>Si</td>\n",
       "      <td>Si</td>\n",
       "      <td>Si</td>\n",
       "      <td>No</td>\n",
       "      <td>Mejorado</td>\n",
       "      <td>0.33</td>\n",
       "    </tr>\n",
       "    <tr>\n",
       "      <th>2</th>\n",
       "      <td>1</td>\n",
       "      <td>Femenino</td>\n",
       "      <td>1970</td>\n",
       "      <td>Sin pertenencia étnica</td>\n",
       "      <td>Desplazados o víctima del Conflicto Armado</td>\n",
       "      <td>Ninguno</td>\n",
       "      <td>No</td>\n",
       "      <td>No</td>\n",
       "      <td>No</td>\n",
       "      <td>No</td>\n",
       "      <td>...</td>\n",
       "      <td>No</td>\n",
       "      <td>Si</td>\n",
       "      <td>No</td>\n",
       "      <td>No</td>\n",
       "      <td>Si</td>\n",
       "      <td>No</td>\n",
       "      <td>No</td>\n",
       "      <td>No</td>\n",
       "      <td>Empeorado</td>\n",
       "      <td>0.42</td>\n",
       "    </tr>\n",
       "    <tr>\n",
       "      <th>3</th>\n",
       "      <td>1</td>\n",
       "      <td>Femenino</td>\n",
       "      <td>1989</td>\n",
       "      <td>Sin pertenencia étnica</td>\n",
       "      <td>Desplazados o víctima del Conflicto Armado</td>\n",
       "      <td>Básica Secundaria</td>\n",
       "      <td>Si</td>\n",
       "      <td>No</td>\n",
       "      <td>No</td>\n",
       "      <td>No</td>\n",
       "      <td>...</td>\n",
       "      <td>No</td>\n",
       "      <td>Si</td>\n",
       "      <td>No</td>\n",
       "      <td>No</td>\n",
       "      <td>Si</td>\n",
       "      <td>No</td>\n",
       "      <td>Si</td>\n",
       "      <td>No</td>\n",
       "      <td>Mejorado</td>\n",
       "      <td>0.49</td>\n",
       "    </tr>\n",
       "    <tr>\n",
       "      <th>4</th>\n",
       "      <td>1</td>\n",
       "      <td>Femenino</td>\n",
       "      <td>1953</td>\n",
       "      <td>Mestizo</td>\n",
       "      <td>Ninguno</td>\n",
       "      <td>Ninguno</td>\n",
       "      <td>Si</td>\n",
       "      <td>No</td>\n",
       "      <td>No</td>\n",
       "      <td>No</td>\n",
       "      <td>...</td>\n",
       "      <td>No</td>\n",
       "      <td>Si</td>\n",
       "      <td>No</td>\n",
       "      <td>No</td>\n",
       "      <td>No</td>\n",
       "      <td>No</td>\n",
       "      <td>Si</td>\n",
       "      <td>No</td>\n",
       "      <td>Permanecen iguales</td>\n",
       "      <td>0.31</td>\n",
       "    </tr>\n",
       "    <tr>\n",
       "      <th>...</th>\n",
       "      <td>...</td>\n",
       "      <td>...</td>\n",
       "      <td>...</td>\n",
       "      <td>...</td>\n",
       "      <td>...</td>\n",
       "      <td>...</td>\n",
       "      <td>...</td>\n",
       "      <td>...</td>\n",
       "      <td>...</td>\n",
       "      <td>...</td>\n",
       "      <td>...</td>\n",
       "      <td>...</td>\n",
       "      <td>...</td>\n",
       "      <td>...</td>\n",
       "      <td>...</td>\n",
       "      <td>...</td>\n",
       "      <td>...</td>\n",
       "      <td>...</td>\n",
       "      <td>...</td>\n",
       "      <td>...</td>\n",
       "      <td>...</td>\n",
       "    </tr>\n",
       "    <tr>\n",
       "      <th>11356</th>\n",
       "      <td>12</td>\n",
       "      <td>Hombre</td>\n",
       "      <td>1999</td>\n",
       "      <td>No se identifica con ninguno de los anteriores</td>\n",
       "      <td>Ninguna</td>\n",
       "      <td>Básica secundaria</td>\n",
       "      <td>No</td>\n",
       "      <td>No</td>\n",
       "      <td>No</td>\n",
       "      <td>No</td>\n",
       "      <td>...</td>\n",
       "      <td>No</td>\n",
       "      <td>No</td>\n",
       "      <td>No</td>\n",
       "      <td>No</td>\n",
       "      <td>Si</td>\n",
       "      <td>No</td>\n",
       "      <td>No</td>\n",
       "      <td>No</td>\n",
       "      <td>Permanecen iguales</td>\n",
       "      <td>0.305801439570261</td>\n",
       "    </tr>\n",
       "    <tr>\n",
       "      <th>11357</th>\n",
       "      <td>12</td>\n",
       "      <td>Hombre</td>\n",
       "      <td>1994</td>\n",
       "      <td>Mestizo</td>\n",
       "      <td>Ninguna</td>\n",
       "      <td>Básica secundaria</td>\n",
       "      <td>No</td>\n",
       "      <td>No</td>\n",
       "      <td>No</td>\n",
       "      <td>No</td>\n",
       "      <td>...</td>\n",
       "      <td>No</td>\n",
       "      <td>No</td>\n",
       "      <td>No</td>\n",
       "      <td>No</td>\n",
       "      <td>No</td>\n",
       "      <td>No</td>\n",
       "      <td>No</td>\n",
       "      <td>No</td>\n",
       "      <td>Permanecen iguales</td>\n",
       "      <td>0.378026512143469</td>\n",
       "    </tr>\n",
       "    <tr>\n",
       "      <th>11358</th>\n",
       "      <td>12</td>\n",
       "      <td>Hombre</td>\n",
       "      <td>1968</td>\n",
       "      <td>No se identifica con ninguno de los anteriores</td>\n",
       "      <td>Ninguna</td>\n",
       "      <td>Básica secundaria</td>\n",
       "      <td>No</td>\n",
       "      <td>No</td>\n",
       "      <td>No</td>\n",
       "      <td>No</td>\n",
       "      <td>...</td>\n",
       "      <td>No</td>\n",
       "      <td>No</td>\n",
       "      <td>No</td>\n",
       "      <td>No</td>\n",
       "      <td>Si</td>\n",
       "      <td>No</td>\n",
       "      <td>Si</td>\n",
       "      <td>No</td>\n",
       "      <td>Permanecen iguales</td>\n",
       "      <td>0.430447761005128</td>\n",
       "    </tr>\n",
       "    <tr>\n",
       "      <th>11359</th>\n",
       "      <td>12</td>\n",
       "      <td>Hombre</td>\n",
       "      <td>1998</td>\n",
       "      <td>No se identifica con ninguno de los anteriores</td>\n",
       "      <td>Ninguna</td>\n",
       "      <td>Básica secundaria</td>\n",
       "      <td>No</td>\n",
       "      <td>No</td>\n",
       "      <td>No</td>\n",
       "      <td>No</td>\n",
       "      <td>...</td>\n",
       "      <td>No</td>\n",
       "      <td>No</td>\n",
       "      <td>No</td>\n",
       "      <td>No</td>\n",
       "      <td>No</td>\n",
       "      <td>No</td>\n",
       "      <td>No</td>\n",
       "      <td>No</td>\n",
       "      <td>Mejorado</td>\n",
       "      <td>0.486817792953296</td>\n",
       "    </tr>\n",
       "    <tr>\n",
       "      <th>11360</th>\n",
       "      <td>12</td>\n",
       "      <td>Hombre</td>\n",
       "      <td>1997</td>\n",
       "      <td>No se identifica con ninguno de los anteriores</td>\n",
       "      <td>Ninguna</td>\n",
       "      <td>Universidad</td>\n",
       "      <td>No</td>\n",
       "      <td>No</td>\n",
       "      <td>No</td>\n",
       "      <td>No</td>\n",
       "      <td>...</td>\n",
       "      <td>No</td>\n",
       "      <td>No</td>\n",
       "      <td>No</td>\n",
       "      <td>No</td>\n",
       "      <td>No</td>\n",
       "      <td>No</td>\n",
       "      <td>Si</td>\n",
       "      <td>No</td>\n",
       "      <td>Mejorado</td>\n",
       "      <td>0.40552302487934</td>\n",
       "    </tr>\n",
       "  </tbody>\n",
       "</table>\n",
       "<p>11361 rows × 70 columns</p>\n",
       "</div>"
      ],
      "text/plain": [
       "       S_1        I_6   I_7                                             I_8  \\\n",
       "0        1   Femenino  1985                          Sin pertenencia étnica   \n",
       "1        1  Masculino  1953                          Sin pertenencia étnica   \n",
       "2        1   Femenino  1970                          Sin pertenencia étnica   \n",
       "3        1   Femenino  1989                          Sin pertenencia étnica   \n",
       "4        1   Femenino  1953                                         Mestizo   \n",
       "...    ...        ...   ...                                             ...   \n",
       "11356   12     Hombre  1999  No se identifica con ninguno de los anteriores   \n",
       "11357   12     Hombre  1994                                         Mestizo   \n",
       "11358   12     Hombre  1968  No se identifica con ninguno de los anteriores   \n",
       "11359   12     Hombre  1998  No se identifica con ninguno de los anteriores   \n",
       "11360   12     Hombre  1997  No se identifica con ninguno de los anteriores   \n",
       "\n",
       "                                              I_9               I_10 I_19  \\\n",
       "0      Desplazados o víctima del Conflicto Armado  Básica Secundaria   Si   \n",
       "1                                         Ninguno    Básica Primaria   No   \n",
       "2      Desplazados o víctima del Conflicto Armado            Ninguno   No   \n",
       "3      Desplazados o víctima del Conflicto Armado  Básica Secundaria   Si   \n",
       "4                                         Ninguno            Ninguno   Si   \n",
       "...                                           ...                ...  ...   \n",
       "11356                                     Ninguna  Básica secundaria   No   \n",
       "11357                                     Ninguna  Básica secundaria   No   \n",
       "11358                                     Ninguna  Básica secundaria   No   \n",
       "11359                                     Ninguna  Básica secundaria   No   \n",
       "11360                                     Ninguna        Universidad   No   \n",
       "\n",
       "      I_21_1 I_21_2 I_21_3  ... I_91_7 I_91_8 I_91_9 I_91_10 I_30 I_41 I_44  \\\n",
       "0         No     No     No  ...     No     No     No      No   Si   No   Si   \n",
       "1         No     Si     No  ...     Si     No     No      Si   Si   Si   Si   \n",
       "2         No     No     No  ...     No     Si     No      No   Si   No   No   \n",
       "3         No     No     No  ...     No     Si     No      No   Si   No   Si   \n",
       "4         No     No     No  ...     No     Si     No      No   No   No   Si   \n",
       "...      ...    ...    ...  ...    ...    ...    ...     ...  ...  ...  ...   \n",
       "11356     No     No     No  ...     No     No     No      No   Si   No   No   \n",
       "11357     No     No     No  ...     No     No     No      No   No   No   No   \n",
       "11358     No     No     No  ...     No     No     No      No   Si   No   Si   \n",
       "11359     No     No     No  ...     No     No     No      No   No   No   No   \n",
       "11360     No     No     No  ...     No     No     No      No   No   No   Si   \n",
       "\n",
       "      I_45                I_47               IPCM  \n",
       "0       Si            Mejorado                0.4  \n",
       "1       No            Mejorado               0.33  \n",
       "2       No           Empeorado               0.42  \n",
       "3       No            Mejorado               0.49  \n",
       "4       No  Permanecen iguales               0.31  \n",
       "...    ...                 ...                ...  \n",
       "11356   No  Permanecen iguales  0.305801439570261  \n",
       "11357   No  Permanecen iguales  0.378026512143469  \n",
       "11358   No  Permanecen iguales  0.430447761005128  \n",
       "11359   No            Mejorado  0.486817792953296  \n",
       "11360   No            Mejorado   0.40552302487934  \n",
       "\n",
       "[11361 rows x 70 columns]"
      ]
     },
     "execution_count": 3,
     "metadata": {},
     "output_type": "execute_result"
    }
   ],
   "source": [
    "Individuos = Individuos[['S_1', 'I_6', 'I_7', 'I_8', 'I_9', 'I_10',\n",
    "          \"I_19\",\t\"I_21_1\",\t\"I_21_2\",\t\"I_21_3\", \"I_22\",\t\"I_23\",\t\"I_24\",\t\"I_26_1\",\t\"I_26_2\",\"I_26_3\", \"I_27\",\t\"I_28_1\", \"I_29\",\n",
    "          \"I_32\",\t\"I_33\",\t\"I_40_1\", \"I_40_2\", \"I_40_3\", \"I_40_4\", \"I_40_5\",\t\"I_90_1\", \"I_90_2\",\"I_90_3\",\"I_90_4\",\"I_90_5\",\"I_90_6\",\"I_90_7\",\n",
    "          \"I_90_8\",\"I_90_9\",\"I_90_10\",\n",
    "          \"I_31\",\t\"I_35_1\", \"I_38\",\t\"I_51_2\", \"I_51_3\",\t\"I_51_4\",\t\"I_52\",\t\"I_54\", \"I_55\",\t\"I_48_1\", \"I_48_2\", \"I_48_3\", \"I_48_4\", \"I_48_5\",\n",
    "          \"I_48_6\",\"I_48_7\",\"I_48_8\",\"I_48_9\", \"I_91_1\",\"I_91_2\",\"I_91_3\",\"I_91_4\",\"I_91_5\",\"I_91_6\",\"I_91_7\",\"I_91_8\",\"I_91_9\",\"I_91_10\",\n",
    "          \"I_30\",\t\"I_41\",\t\"I_44\",\t\"I_45\",\"I_47\",\n",
    "          'IPCM']]\n",
    "# Individuos['I_7'] = Individuos['I_7'].replace(np.nan, 9999, regex=True)\n",
    "# Individuos['I_8'] = Individuos['I_8'].replace(np.nan, 'Sin registro', regex=True)\n",
    "# Individuos['I_24'] = Individuos['I_24'].replace(-88, 'Sin registro', regex=True)\n",
    "# Individuos['I_35_1'] = Individuos['I_35_1'].replace(np.nan, 'Sin registro', regex=True)\n",
    "# Individuos['I_47'] = Individuos['I_47'].replace(np.nan, 'Sin registro', regex=True)\n",
    "# Individuos['IPCM'] = Individuos['IPCM'].replace(np.nan, 0.0, regex=True)\n",
    "# Individuos = Individuos.dropna()\n",
    "# Individuos.to_excel('IndividuosIPCM.xlsx', index=False)\n",
    "Individuos"
   ]
  },
  {
   "cell_type": "code",
   "execution_count": 4,
   "metadata": {
    "colab": {
     "base_uri": "https://localhost:8080/"
    },
    "id": "g7QHg8YjuvpS",
    "outputId": "4f815922-1250-4e70-9d36-4564320889bf",
    "scrolled": true
   },
   "outputs": [
    {
     "name": "stderr",
     "output_type": "stream",
     "text": [
      "C:\\Users\\jlope\\AppData\\Local\\Temp/ipykernel_16124/1076487801.py:1: FutureWarning: In a future version of pandas all arguments of DataFrame.drop except for the argument 'labels' will be keyword-only\n",
      "  Ind = np.array(Individuos.drop(['IPCM'],1))\n",
      "C:\\Users\\jlope\\AppData\\Local\\Temp/ipykernel_16124/1076487801.py:2: FutureWarning: In a future version of pandas all arguments of DataFrame.drop except for the argument 'labels' will be keyword-only\n",
      "  feature_names = Individuos.drop(['IPCM'],1)\n"
     ]
    }
   ],
   "source": [
    "Ind = np.array(Individuos.drop(['IPCM'],1))\n",
    "feature_names = Individuos.drop(['IPCM'],1)\n",
    "feature_names = feature_names.columns\n",
    "feature_names = np.array(feature_names)\n",
    "ordinalEncoder = OrdinalEncoder(categories=\"auto\", dtype=np.float64)\n",
    "ordinalEncoder.fit(Ind)\n",
    "Ind = ordinalEncoder.transform(Ind)\n",
    "Ind = pd.DataFrame(Ind, columns=feature_names)\n",
    "Ind['IPCM'] = Individuos['IPCM'].astype('float')\n",
    "Ind['IPCM'] = Ind['IPCM'].replace(np.nan, 0.0, regex=True)\n",
    "# X['IPCM'].isnull().sum()"
   ]
  },
  {
   "cell_type": "code",
   "execution_count": 5,
   "metadata": {
    "id": "g-Nw_f362GzU"
   },
   "outputs": [
    {
     "name": "stdout",
     "output_type": "stream",
     "text": [
      "Init: initializing centroids\n",
      "Init: initializing clusters\n",
      "Starting iterations...\n",
      "Run 1, iteration: 1/100, moves: 3770, cost: 288525.0\n",
      "Run 1, iteration: 2/100, moves: 1358, cost: 288145.0\n",
      "Run 1, iteration: 3/100, moves: 156, cost: 288145.0\n",
      "Init: initializing centroids\n",
      "Init: initializing clusters\n",
      "Starting iterations...\n",
      "Run 2, iteration: 1/100, moves: 2425, cost: 287357.0\n",
      "Run 2, iteration: 2/100, moves: 30, cost: 287357.0\n",
      "Init: initializing centroids\n",
      "Init: initializing clusters\n",
      "Starting iterations...\n",
      "Run 3, iteration: 1/100, moves: 3896, cost: 290338.0\n",
      "Run 3, iteration: 2/100, moves: 1196, cost: 288608.0\n",
      "Run 3, iteration: 3/100, moves: 1472, cost: 287010.0\n",
      "Run 3, iteration: 4/100, moves: 329, cost: 287014.0\n",
      "Init: initializing centroids\n",
      "Init: initializing clusters\n",
      "Starting iterations...\n",
      "Run 4, iteration: 1/100, moves: 3958, cost: 292140.0\n",
      "Run 4, iteration: 2/100, moves: 1231, cost: 290484.0\n",
      "Run 4, iteration: 3/100, moves: 1180, cost: 288949.0\n",
      "Run 4, iteration: 4/100, moves: 1064, cost: 288129.0\n",
      "Run 4, iteration: 5/100, moves: 789, cost: 287354.0\n",
      "Run 4, iteration: 6/100, moves: 383, cost: 287146.0\n",
      "Run 4, iteration: 7/100, moves: 57, cost: 287146.0\n",
      "Init: initializing centroids\n",
      "Init: initializing clusters\n",
      "Starting iterations...\n",
      "Run 5, iteration: 1/100, moves: 3851, cost: 289944.0\n",
      "Run 5, iteration: 2/100, moves: 1374, cost: 289293.0\n",
      "Run 5, iteration: 3/100, moves: 376, cost: 289293.0\n",
      "Best run was number 3\n"
     ]
    }
   ],
   "source": [
    "    km = KModes(n_clusters=3, init='Huang', n_init=5, verbose=1)\n",
    "    clusters = km.fit_predict(Ind.iloc[:,1:])\n",
    "    Ind[\"Clase\"] = clusters"
   ]
  },
  {
   "cell_type": "code",
   "execution_count": 6,
   "metadata": {
    "id": "E22bOQfG2GzV",
    "outputId": "3c1e46fa-e4fd-4283-c499-504ea8ca995d"
   },
   "outputs": [
    {
     "name": "stderr",
     "output_type": "stream",
     "text": [
      "C:\\Users\\jlope\\anaconda3\\lib\\site-packages\\seaborn\\_decorators.py:36: FutureWarning: Pass the following variable as a keyword arg: x. From version 0.12, the only valid positional argument will be `data`, and passing other arguments without an explicit keyword will result in an error or misinterpretation.\n",
      "  warnings.warn(\n"
     ]
    },
    {
     "data": {
      "image/png": "[encoded data removed]",
      "text/plain": [
       "<Figure size 864x432 with 1 Axes>"
      ]
     },
     "metadata": {},
     "output_type": "display_data"
    }
   ],
   "source": [
    "plt.style.use('ggplot')\n",
    "Frecuencia = Ind.groupby('Clase').sum()\n",
    "plt.figure(figsize=(12,6))\n",
    "graf = sns.countplot(Ind['Clase'],palette='flare')\n",
    "plt.title('Distribución por Clase')\n",
    "for p in graf.patches:\n",
    "    graf.annotate(f'\\n{p.get_height()}', (p.get_x()+0.2, p.get_height()), ha='left', va='bottom', color='black', size=10)\n",
    "plt.show()"
   ]
  },
  {
   "cell_type": "code",
   "execution_count": 7,
   "metadata": {
    "colab": {
     "base_uri": "https://localhost:8080/"
    },
    "id": "4lMq8OB4nP_u",
    "outputId": "967d9355-ee30-4106-f363-ee5a59116e6a",
    "scrolled": true
   },
   "outputs": [
    {
     "name": "stderr",
     "output_type": "stream",
     "text": [
      "C:\\Users\\jlope\\AppData\\Local\\Temp/ipykernel_16124/1491399619.py:1: FutureWarning: In a future version of pandas all arguments of DataFrame.drop except for the argument 'labels' will be keyword-only\n",
      "  X = np.array(Ind.drop(['Clase','IPCM'],1))\n",
      "C:\\Users\\jlope\\AppData\\Local\\Temp/ipykernel_16124/1491399619.py:3: FutureWarning: In a future version of pandas all arguments of DataFrame.drop except for the argument 'labels' will be keyword-only\n",
      "  feature_names = Ind.drop(['Clase','IPCM'],1)\n"
     ]
    },
    {
     "data": {
      "text/plain": [
       "array(['S_1', 'I_6', 'I_7', 'I_8', 'I_9', 'I_10', 'I_19', 'I_21_1',\n",
       "       'I_21_2', 'I_21_3', 'I_22', 'I_23', 'I_24', 'I_26_1', 'I_26_2',\n",
       "       'I_26_3', 'I_27', 'I_28_1', 'I_29', 'I_32', 'I_33', 'I_40_1',\n",
       "       'I_40_2', 'I_40_3', 'I_40_4', 'I_40_5', 'I_90_1', 'I_90_2',\n",
       "       'I_90_3', 'I_90_4', 'I_90_5', 'I_90_6', 'I_90_7', 'I_90_8',\n",
       "       'I_90_9', 'I_90_10', 'I_31', 'I_35_1', 'I_38', 'I_51_2', 'I_51_3',\n",
       "       'I_51_4', 'I_52', 'I_54', 'I_55', 'I_48_1', 'I_48_2', 'I_48_3',\n",
       "       'I_48_4', 'I_48_5', 'I_48_6', 'I_48_7', 'I_48_8', 'I_48_9',\n",
       "       'I_91_1', 'I_91_2', 'I_91_3', 'I_91_4', 'I_91_5', 'I_91_6',\n",
       "       'I_91_7', 'I_91_8', 'I_91_9', 'I_91_10', 'I_30', 'I_41', 'I_44',\n",
       "       'I_45', 'I_47'], dtype=object)"
      ]
     },
     "execution_count": 7,
     "metadata": {},
     "output_type": "execute_result"
    }
   ],
   "source": [
    "X = np.array(Ind.drop(['Clase','IPCM'],1))\n",
    "Y = np.array(Ind['Clase'])\n",
    "feature_names = Ind.drop(['Clase','IPCM'],1)\n",
    "feature_names = feature_names.columns\n",
    "feature_names = np.array(feature_names)\n",
    "feature_names\n",
    "# X = Individuos.drop(['Clase','IPCM'],1)\n",
    "# Y = Individuos['Clase']"
   ]
  },
  {
   "cell_type": "code",
   "execution_count": 8,
   "metadata": {
    "id": "Sc0WlHko78_Y"
   },
   "outputs": [],
   "source": [
    "X = pd.DataFrame(X, columns=feature_names)"
   ]
  },
  {
   "cell_type": "code",
   "execution_count": 9,
   "metadata": {
    "id": "ag7EIHQBvdYC",
    "scrolled": true
   },
   "outputs": [],
   "source": [
    "X_train,X_test,y_train,y_test = train_test_split(X,Y,test_size=0.3,random_state=1234)"
   ]
  },
  {
   "cell_type": "code",
   "execution_count": 10,
   "metadata": {
    "id": "95zqXHJ7w6vX"
   },
   "outputs": [],
   "source": [
    "skf = StratifiedKFold(n_splits=5, shuffle=True)"
   ]
  },
  {
   "cell_type": "code",
   "execution_count": 11,
   "metadata": {
    "colab": {
     "base_uri": "https://localhost:8080/"
    },
    "id": "zRNHxCspqgmG",
    "outputId": "a4e503ff-840a-4c7c-f731-40f94bbea2ef"
   },
   "outputs": [
    {
     "name": "stdout",
     "output_type": "stream",
     "text": [
      "Fitting 5 folds for each of 300 candidates, totalling 1500 fits\n"
     ]
    },
    {
     "name": "stderr",
     "output_type": "stream",
     "text": [
      "C:\\Users\\jlope\\anaconda3\\lib\\site-packages\\sklearn\\model_selection\\_search.py:922: UserWarning: One or more of the test scores are non-finite: [0.41096577 0.6317918         nan 0.82935285 0.83815535        nan\n",
      " 0.83903569 0.84155126        nan 0.84243113 0.84356305        nan\n",
      " 0.84607877 0.84431792        nan 0.84783954 0.84620463        nan\n",
      " 0.84809064 0.84595306        nan 0.8499768  0.84658176        nan\n",
      " 0.8512341  0.84695896        nan 0.85098269 0.84695896        nan\n",
      " 0.8514856  0.847336          nan 0.85110816 0.84796453        nan\n",
      " 0.85135973 0.84884456        nan 0.85148544 0.84859307        nan\n",
      " 0.85085643 0.84846744        nan 0.85035344 0.84846744        nan\n",
      " 0.85060501 0.84871885        nan 0.85060501 0.84871885        nan\n",
      " 0.85085651 0.84909613        nan 0.85073088 0.84922184        nan\n",
      " 0.84985061 0.84897027        nan 0.84997624 0.84897035        nan\n",
      " 0.84934755 0.84909606        nan 0.84972483 0.84897027        nan\n",
      " 0.84997632 0.84897043        nan 0.8503536  0.84897043        nan\n",
      " 0.85022781 0.84909621        nan 0.84997624 0.84897043        nan\n",
      " 0.85010195 0.84897043        nan 0.85035336 0.84909621        nan\n",
      " 0.85035344 0.84934763        nan 0.84997616 0.84922184        nan\n",
      " 0.8498503  0.84897027        nan 0.84972451 0.84897019        nan\n",
      " 0.8495988  0.8490959         nan 0.84959896 0.8490959         nan\n",
      " 0.84947326 0.84897011        nan 0.84959896 0.84922168        nan\n",
      " 0.84947326 0.84909606        nan 0.84972459 0.84846728        nan\n",
      " 0.8494731  0.84846736        nan 0.84959873 0.84846728        nan\n",
      " 0.8495988  0.84821579        nan 0.84947302 0.84834158        nan\n",
      " 0.84947294 0.84796438        nan 0.84934731 0.84809016        nan\n",
      " 0.84985022 0.84821587        nan 0.84985022 0.8479643         nan\n",
      " 0.84934723 0.8479643         nan 0.84947302 0.84783859        nan\n",
      " 0.84972451 0.84783859        nan 0.8495988  0.84796438        nan\n",
      " 0.84972443 0.84809008        nan 0.84972443 0.84809008        nan\n",
      " 0.84972443 0.84809016        nan 0.84972443 0.84809008        nan\n",
      " 0.84947294 0.84783851        nan 0.849976   0.8479643         nan\n",
      " 0.8498503  0.84771272        nan 0.84947302 0.8479643         nan\n",
      " 0.84959873 0.84809008        nan 0.84947294 0.8479643         nan\n",
      " 0.84959865 0.84809008        nan 0.84947294 0.84809008        nan\n",
      " 0.84934715 0.84821579        nan 0.84947286 0.84846736        nan\n",
      " 0.84922137 0.84859307        nan 0.84922145 0.8483415         nan\n",
      " 0.84934715 0.84884456        nan 0.84934715 0.84859307        nan\n",
      " 0.84896995 0.8483415         nan 0.84909566 0.84846728        nan\n",
      " 0.84909574 0.8483415         nan 0.84922145 0.8483415         nan\n",
      " 0.84909574 0.84846728        nan 0.84909566 0.84846728        nan\n",
      " 0.84922137 0.8483415         nan 0.84909574 0.84859299        nan\n",
      " 0.84922145 0.84859299        nan 0.84934707 0.84871878        nan\n",
      " 0.84909566 0.8484672         nan 0.84922145 0.84859299        nan\n",
      " 0.84922137 0.84859299        nan 0.84934715 0.84859299        nan\n",
      " 0.84909574 0.84859299        nan 0.84947294 0.84859299        nan\n",
      " 0.84934715 0.84871878        nan 0.84959873 0.84859299        nan\n",
      " 0.84896995 0.84846728        nan 0.84922145 0.84871878        nan\n",
      " 0.8492216  0.84871878        nan 0.8492216  0.84884448        nan\n",
      " 0.84884425 0.84871878        nan 0.84922145 0.84884448        nan\n",
      " 0.84922153 0.84897019        nan 0.84909582 0.8490959         nan\n",
      " 0.84934723 0.8487187         nan 0.84897003 0.84884448        nan\n",
      " 0.84897003 0.84909606        nan 0.84897003 0.84909606        nan]\n",
      "  warnings.warn(\n"
     ]
    }
   ],
   "source": [
    "params = {\n",
    "    'penalty':['l1', 'l2', 'elasticnet'],        # l1 is Lasso, l2 is Ridge\n",
    "    'solver':['liblinear'],\n",
    "    'C': np.linspace(0.00002,1,100)\n",
    "}\n",
    "\n",
    "lr = LogisticRegression(class_weight='balanced')\n",
    "lr_gs = GridSearchCV(lr, params, cv=skf, n_jobs=-1, verbose=1).fit(X_train,y_train)"
   ]
  },
  {
   "cell_type": "code",
   "execution_count": 12,
   "metadata": {
    "colab": {
     "base_uri": "https://localhost:8080/"
    },
    "id": "UOrZuzHqxT77",
    "outputId": "0aa41b1d-0e21-4440-990b-a6c899266052"
   },
   "outputs": [
    {
     "name": "stdout",
     "output_type": "stream",
     "text": [
      "Mejores parámetros {'C': 0.1010280808080808, 'penalty': 'l1', 'solver': 'liblinear'}\n",
      "Mejor estimador LogisticRegression(C=0.1010280808080808, class_weight='balanced', penalty='l1',\n",
      "                   solver='liblinear')\n"
     ]
    }
   ],
   "source": [
    "print(\"Mejores parámetros\", lr_gs.best_params_)\n",
    "print(\"Mejor estimador\", lr_gs.best_estimator_)"
   ]
  },
  {
   "cell_type": "code",
   "execution_count": 13,
   "metadata": {
    "colab": {
     "base_uri": "https://localhost:8080/"
    },
    "id": "rnSIoz9Hwl6z",
    "outputId": "4871024a-c8cb-4d12-b268-ce7c1abc4d2c",
    "scrolled": true
   },
   "outputs": [
    {
     "data": {
      "text/plain": [
       "array([2, 0, 1, ..., 0, 1, 0], dtype=uint16)"
      ]
     },
     "execution_count": 13,
     "metadata": {},
     "output_type": "execute_result"
    }
   ],
   "source": [
    "lr = LogisticRegression(C= 0.1010280808080808, penalty= 'l1', solver= 'liblinear', class_weight='balanced')\n",
    "# scores = cross_val_predict(lr, X_test, y_test, cv=skf)\n",
    "# scores\n",
    "\n",
    "lr.fit(X_train,y_train)\n",
    "init_lr = time.time()\n",
    "time_lr = time.time()-init_lr\n",
    "lr_y_pred = lr.predict(X_test)\n",
    "lr_y_pred"
   ]
  },
  {
   "cell_type": "code",
   "execution_count": 14,
   "metadata": {
    "colab": {
     "base_uri": "https://localhost:8080/"
    },
    "id": "3Ui5PPr2-2VT",
    "outputId": "ec2f3561-886a-41fc-86b2-778c6d9d6509",
    "scrolled": true
   },
   "outputs": [
    {
     "name": "stdout",
     "output_type": "stream",
     "text": [
      "Matriz de Confusión:\n",
      "[[ 760   80  149]\n",
      " [  48 1357   20]\n",
      " [ 152   36  807]]\n"
     ]
    }
   ],
   "source": [
    "matriz_lr = confusion_matrix(y_test, lr_y_pred)\n",
    "print('Matriz de Confusión:')\n",
    "print(matriz_lr)"
   ]
  },
  {
   "cell_type": "code",
   "execution_count": 15,
   "metadata": {
    "colab": {
     "base_uri": "https://localhost:8080/",
     "height": 350
    },
    "id": "wiDzzorNlD7Z",
    "outputId": "d254b538-9393-4d65-dc03-6782a8c78ff3",
    "scrolled": true
   },
   "outputs": [
    {
     "data": {
      "text/plain": [
       "Text(0.5, 15.0, 'Predicción')"
      ]
     },
     "execution_count": 15,
     "metadata": {},
     "output_type": "execute_result"
    },
    {
     "data": {
      "image/png": "[encoded data removed]",
      "text/plain": [
       "<Figure size 432x288 with 2 Axes>"
      ]
     },
     "metadata": {},
     "output_type": "display_data"
    }
   ],
   "source": [
    "sns.heatmap(pd.DataFrame(matriz_lr), annot=True, cmap=\"YlGnBu\" ,fmt='g')\n",
    "plt.tight_layout()\n",
    "plt.title('Matriz de confusión', y=1.1)\n",
    "plt.ylabel('Real')\n",
    "plt.xlabel('Predicción')"
   ]
  },
  {
   "cell_type": "code",
   "execution_count": 16,
   "metadata": {
    "colab": {
     "base_uri": "https://localhost:8080/"
    },
    "id": "HaEwzLT4_QCg",
    "outputId": "d1214a2e-13cd-4fec-e999-0804bdf1af75",
    "scrolled": true
   },
   "outputs": [
    {
     "name": "stdout",
     "output_type": "stream",
     "text": [
      "Precisión del modelo:\n",
      "0.8577295394543855\n",
      "Exactitud del modelo:\n",
      "0.8577295394543855\n",
      "Exhaustividad del modelo:\n",
      "0.8577295394543855\n",
      "Valor F1 del modelo:\n",
      "0.8577295394543855\n"
     ]
    }
   ],
   "source": [
    "precision_lr = precision_score(y_test, lr_y_pred,average='micro')\n",
    "print('Precisión del modelo:')\n",
    "print(precision_lr)\n",
    " \n",
    "accuracy_lr = accuracy_score(y_test, lr_y_pred)\n",
    "print('Exactitud del modelo:')\n",
    "print(accuracy_lr)\n",
    " \n",
    "recall_lr = recall_score(y_test, lr_y_pred, average='micro')\n",
    "print('Exhaustividad del modelo:')\n",
    "print(recall_lr)\n",
    "\n",
    "f1_lr = f1_score(y_test, lr_y_pred, average='micro')\n",
    "print('Valor F1 del modelo:')\n",
    "print(f1_lr)"
   ]
  },
  {
   "cell_type": "code",
   "execution_count": 17,
   "metadata": {
    "colab": {
     "base_uri": "https://localhost:8080/"
    },
    "id": "UWxt8tQoR2N-",
    "outputId": "a4a66407-4231-439f-db56-9d2e73d63968",
    "scrolled": true
   },
   "outputs": [
    {
     "name": "stdout",
     "output_type": "stream",
     "text": [
      "              precision    recall  f1-score   support\n",
      "\n",
      "           0       0.79      0.77      0.78       989\n",
      "           1       0.92      0.95      0.94      1425\n",
      "           2       0.83      0.81      0.82       995\n",
      "\n",
      "    accuracy                           0.86      3409\n",
      "   macro avg       0.85      0.84      0.85      3409\n",
      "weighted avg       0.86      0.86      0.86      3409\n",
      "\n"
     ]
    }
   ],
   "source": [
    "clas_lr = classification_report(y_test, lr_y_pred, zero_division = 1)\n",
    "print(clas_lr)"
   ]
  },
  {
   "cell_type": "code",
   "execution_count": 18,
   "metadata": {
    "colab": {
     "base_uri": "https://localhost:8080/"
    },
    "id": "x9D6eSKiAGEq",
    "outputId": "ab3e3293-e86f-4ebf-db30-460fd48f65d7"
   },
   "outputs": [
    {
     "name": "stdout",
     "output_type": "stream",
     "text": [
      "Fitting 5 folds for each of 12 candidates, totalling 60 fits\n"
     ]
    }
   ],
   "source": [
    "rfc = RandomForestClassifier(class_weight='balanced')\n",
    "\n",
    "param_grid = {\n",
    "    'n_estimators': [100, 200, 500, 700],\n",
    "    'max_features': ['auto', 'sqrt', 'log2']\n",
    "}\n",
    "\n",
    "gs_rfc = GridSearchCV(rfc, param_grid, cv=skf, n_jobs=-1, verbose=1).fit(X_train,y_train)"
   ]
  },
  {
   "cell_type": "code",
   "execution_count": 19,
   "metadata": {
    "colab": {
     "base_uri": "https://localhost:8080/"
    },
    "id": "8esnyRmmCIZw",
    "outputId": "1e9ec8c6-8297-4d4a-eb96-fa010fcb1248"
   },
   "outputs": [
    {
     "name": "stdout",
     "output_type": "stream",
     "text": [
      "Mejores parámetros {'max_features': 'log2', 'n_estimators': 500}\n",
      "Mejor estimador RandomForestClassifier(class_weight='balanced', max_features='log2',\n",
      "                       n_estimators=500)\n"
     ]
    }
   ],
   "source": [
    "print(\"Mejores parámetros\", gs_rfc.best_params_)\n",
    "print(\"Mejor estimador\", gs_rfc.best_estimator_)"
   ]
  },
  {
   "cell_type": "code",
   "execution_count": 20,
   "metadata": {
    "colab": {
     "base_uri": "https://localhost:8080/"
    },
    "id": "j3DVLXBdxyzj",
    "outputId": "f494be6d-7ea7-49fc-ee51-e86061e04534",
    "scrolled": true
   },
   "outputs": [
    {
     "data": {
      "text/plain": [
       "array([2, 0, 1, ..., 0, 1, 2], dtype=uint16)"
      ]
     },
     "execution_count": 20,
     "metadata": {},
     "output_type": "execute_result"
    }
   ],
   "source": [
    "rfc = RandomForestClassifier(max_features= 'log2', n_estimators= 500, class_weight='balanced')\n",
    "\n",
    "init_rf = time.time()\n",
    "rfc.fit(X_train,y_train)\n",
    "time_rf = time.time()-init_rf\n",
    "rfc_y_pred = rfc.predict(X_test)\n",
    "rfc_y_pred"
   ]
  },
  {
   "cell_type": "code",
   "execution_count": 21,
   "metadata": {
    "colab": {
     "base_uri": "https://localhost:8080/"
    },
    "id": "FitZypt0MnII",
    "outputId": "129a2430-3080-48ad-d77e-4a7c1627ab35",
    "scrolled": true
   },
   "outputs": [
    {
     "name": "stdout",
     "output_type": "stream",
     "text": [
      "Matriz de Confusión:\n",
      "[[ 840   64   85]\n",
      " [  16 1367   42]\n",
      " [ 111   51  833]]\n"
     ]
    }
   ],
   "source": [
    "matriz_rfc = confusion_matrix(y_test, rfc_y_pred)\n",
    "print('Matriz de Confusión:')\n",
    "print(matriz_rfc)"
   ]
  },
  {
   "cell_type": "code",
   "execution_count": 22,
   "metadata": {
    "colab": {
     "base_uri": "https://localhost:8080/",
     "height": 350
    },
    "id": "v9432B06PYAM",
    "outputId": "728a9063-39a0-495c-a70e-55b39c562195",
    "scrolled": true
   },
   "outputs": [
    {
     "data": {
      "text/plain": [
       "Text(0.5, 15.0, 'Predicción')"
      ]
     },
     "execution_count": 22,
     "metadata": {},
     "output_type": "execute_result"
    },
    {
     "data": {
      "image/png": "[encoded data removed]",
      "text/plain": [
       "<Figure size 432x288 with 2 Axes>"
      ]
     },
     "metadata": {},
     "output_type": "display_data"
    }
   ],
   "source": [
    "sns.heatmap(pd.DataFrame(matriz_rfc), annot=True, cmap=\"YlGnBu\" ,fmt='g')\n",
    "plt.tight_layout()\n",
    "plt.title('Matriz de confusión', y=1.1)\n",
    "plt.ylabel('Real')\n",
    "plt.xlabel('Predicción')"
   ]
  },
  {
   "cell_type": "code",
   "execution_count": 23,
   "metadata": {
    "colab": {
     "base_uri": "https://localhost:8080/"
    },
    "id": "8ZNHvqPYNc5s",
    "outputId": "bed1ae44-8754-475f-bb01-15ae9db8cc2f",
    "scrolled": true
   },
   "outputs": [
    {
     "name": "stdout",
     "output_type": "stream",
     "text": [
      "Precisión del modelo:\n",
      "0.8917571135230273\n",
      "Exactitud del modelo:\n",
      "0.8917571135230273\n",
      "Exhaustividad del modelo:\n",
      "0.8917571135230273\n",
      "Valor F1 del modelo:\n",
      "0.8917571135230273\n"
     ]
    }
   ],
   "source": [
    "precision_rfc = precision_score(y_test, rfc_y_pred,average='micro')\n",
    "print('Precisión del modelo:')\n",
    "print(precision_rfc)\n",
    "\n",
    "accuracy_rfc = accuracy_score(y_test, rfc_y_pred)\n",
    "print('Exactitud del modelo:')\n",
    "print(accuracy_rfc)\n",
    "\n",
    "recall_rfc = recall_score(y_test, rfc_y_pred, average='micro')\n",
    "print('Exhaustividad del modelo:')\n",
    "print(recall_rfc)\n",
    "\n",
    "f1_rfc = f1_score(y_test, rfc_y_pred, average='micro')\n",
    "print('Valor F1 del modelo:')\n",
    "print(f1_rfc)"
   ]
  },
  {
   "cell_type": "code",
   "execution_count": 24,
   "metadata": {
    "colab": {
     "base_uri": "https://localhost:8080/"
    },
    "id": "KBaQ1JxxQeid",
    "outputId": "c17fb76d-af8f-45f3-a599-4c05c24638b0",
    "scrolled": true
   },
   "outputs": [
    {
     "name": "stdout",
     "output_type": "stream",
     "text": [
      "              precision    recall  f1-score   support\n",
      "\n",
      "           0       0.87      0.85      0.86       989\n",
      "           1       0.92      0.96      0.94      1425\n",
      "           2       0.87      0.84      0.85       995\n",
      "\n",
      "    accuracy                           0.89      3409\n",
      "   macro avg       0.89      0.88      0.88      3409\n",
      "weighted avg       0.89      0.89      0.89      3409\n",
      "\n"
     ]
    }
   ],
   "source": [
    "clas_rfc = classification_report(y_test, rfc_y_pred, zero_division = 1)\n",
    "print(clas_rfc)"
   ]
  },
  {
   "cell_type": "code",
   "execution_count": 25,
   "metadata": {
    "colab": {
     "base_uri": "https://localhost:8080/"
    },
    "id": "5_zKAXAAHoV3",
    "outputId": "85b01b6f-0e11-43e8-b282-37f5bf102289"
   },
   "outputs": [
    {
     "name": "stdout",
     "output_type": "stream",
     "text": [
      "Fitting 5 folds for each of 25 candidates, totalling 125 fits\n"
     ]
    }
   ],
   "source": [
    "svm = SVC(class_weight='balanced')\n",
    "param_grid = {'C': [0.1, 1, 10, 100, 1000],\n",
    "              'gamma': [1, 0.1, 0.01, 0.001, 0.0001],\n",
    "              'kernel': ['rbf']}\n",
    "\n",
    "gs_svm = GridSearchCV(svm, param_grid, cv=skf, n_jobs=-1, verbose=1).fit(X_train,y_train)"
   ]
  },
  {
   "cell_type": "code",
   "execution_count": 26,
   "metadata": {
    "colab": {
     "base_uri": "https://localhost:8080/"
    },
    "id": "tkPwf216MSoo",
    "outputId": "b8736ec5-1c18-4a9f-a587-46669b06c7b8"
   },
   "outputs": [
    {
     "name": "stdout",
     "output_type": "stream",
     "text": [
      "Mejores parámetros {'C': 1000, 'gamma': 0.0001, 'kernel': 'rbf'}\n",
      "Mejor estimador SVC(C=1000, class_weight='balanced', gamma=0.0001)\n"
     ]
    }
   ],
   "source": [
    "print(\"Mejores parámetros\", gs_svm.best_params_)\n",
    "print(\"Mejor estimador\", gs_svm.best_estimator_)"
   ]
  },
  {
   "cell_type": "code",
   "execution_count": 27,
   "metadata": {
    "colab": {
     "base_uri": "https://localhost:8080/"
    },
    "id": "z70EIvByN3PD",
    "outputId": "b368fdb8-c137-4740-f71d-85a0cc37923c",
    "scrolled": true
   },
   "outputs": [
    {
     "data": {
      "text/plain": [
       "array([2, 0, 1, ..., 0, 1, 0], dtype=uint16)"
      ]
     },
     "execution_count": 27,
     "metadata": {},
     "output_type": "execute_result"
    }
   ],
   "source": [
    "svm = SVC(C=100, class_weight='balanced', gamma=0.0001)\n",
    "init_svm= time.time()\n",
    "svm.fit(X_train,y_train)\n",
    "time_svm=time.time()-init_svm\n",
    "svm_y_pred = svm.predict(X_test)\n",
    "svm_y_pred"
   ]
  },
  {
   "cell_type": "code",
   "execution_count": 28,
   "metadata": {
    "colab": {
     "base_uri": "https://localhost:8080/"
    },
    "id": "-edcOV4CPpAb",
    "outputId": "8d606c3a-5234-45b0-dc0d-58811f898e4b",
    "scrolled": true
   },
   "outputs": [
    {
     "name": "stdout",
     "output_type": "stream",
     "text": [
      "Matriz de Confusión:\n",
      "[[ 790   57  142]\n",
      " [  61 1320   44]\n",
      " [ 143   19  833]]\n"
     ]
    }
   ],
   "source": [
    "matriz_svm = confusion_matrix(y_test, svm_y_pred)\n",
    "print('Matriz de Confusión:')\n",
    "print(matriz_svm)"
   ]
  },
  {
   "cell_type": "code",
   "execution_count": 29,
   "metadata": {
    "colab": {
     "base_uri": "https://localhost:8080/",
     "height": 350
    },
    "id": "SElecR5KQTw3",
    "outputId": "a11a88dd-7e7b-4b5f-ca1e-68767fe6dbe4",
    "scrolled": true
   },
   "outputs": [
    {
     "data": {
      "text/plain": [
       "Text(0.5, 15.0, 'Predicción')"
      ]
     },
     "execution_count": 29,
     "metadata": {},
     "output_type": "execute_result"
    },
    {
     "data": {
      "image/png": "[encoded data removed]",
      "text/plain": [
       "<Figure size 432x288 with 2 Axes>"
      ]
     },
     "metadata": {},
     "output_type": "display_data"
    }
   ],
   "source": [
    "sns.heatmap(pd.DataFrame(matriz_svm), annot=True, cmap=\"YlGnBu\" ,fmt='g')\n",
    "plt.tight_layout()\n",
    "plt.title('Matriz de confusión', y=1.1)\n",
    "plt.ylabel('Real')\n",
    "plt.xlabel('Predicción')"
   ]
  },
  {
   "cell_type": "code",
   "execution_count": 30,
   "metadata": {
    "colab": {
     "base_uri": "https://localhost:8080/"
    },
    "id": "iuNABqegP88u",
    "outputId": "73bfab88-bcad-49ee-afc9-8f680b3f1d3c",
    "scrolled": true
   },
   "outputs": [
    {
     "name": "stdout",
     "output_type": "stream",
     "text": [
      "Precisión del modelo:\n",
      "0.8633030214139044\n",
      "Exactitud del modelo:\n",
      "0.8633030214139044\n",
      "Exhaustividad del modelo:\n",
      "0.8633030214139044\n",
      "Valor F1 del modelo:\n",
      "0.8633030214139044\n"
     ]
    }
   ],
   "source": [
    "precision_svm = precision_score(y_test, svm_y_pred,average='micro')\n",
    "print('Precisión del modelo:')\n",
    "print(precision_svm)\n",
    "\n",
    "accuracy_svm = accuracy_score(y_test, svm_y_pred)\n",
    "print('Exactitud del modelo:')\n",
    "print(accuracy_svm)\n",
    "\n",
    "recall_svm = recall_score(y_test, svm_y_pred, average='micro')\n",
    "print('Exhaustividad del modelo:')\n",
    "print(recall_svm)\n",
    "\n",
    "f1_svm = f1_score(y_test, svm_y_pred, average='micro')\n",
    "print('Valor F1 del modelo:')\n",
    "print(f1_svm)"
   ]
  },
  {
   "cell_type": "code",
   "execution_count": 31,
   "metadata": {
    "colab": {
     "base_uri": "https://localhost:8080/"
    },
    "id": "ylFUlsH2T2tQ",
    "outputId": "d90464c3-dc3c-40f9-c958-5be284d893d1",
    "scrolled": true
   },
   "outputs": [
    {
     "name": "stdout",
     "output_type": "stream",
     "text": [
      "              precision    recall  f1-score   support\n",
      "\n",
      "           0       0.79      0.80      0.80       989\n",
      "           1       0.95      0.93      0.94      1425\n",
      "           2       0.82      0.84      0.83       995\n",
      "\n",
      "    accuracy                           0.86      3409\n",
      "   macro avg       0.85      0.85      0.85      3409\n",
      "weighted avg       0.86      0.86      0.86      3409\n",
      "\n"
     ]
    }
   ],
   "source": [
    "clas_svm = classification_report(y_test, svm_y_pred, zero_division = 1)\n",
    "print(clas_svm)"
   ]
  },
  {
   "cell_type": "code",
   "execution_count": 32,
   "metadata": {
    "colab": {
     "base_uri": "https://localhost:8080/"
    },
    "id": "KaYXY66nPIU0",
    "outputId": "081273c7-4272-44f1-e92a-1be8c57d5d22"
   },
   "outputs": [
    {
     "name": "stdout",
     "output_type": "stream",
     "text": [
      "Fitting 5 folds for each of 144 candidates, totalling 720 fits\n"
     ]
    }
   ],
   "source": [
    "knn = KNeighborsClassifier()\n",
    "param_grid = {\n",
    "    'n_neighbors': (3, 5, 10),\n",
    "    'leaf_size': (20,40,1),\n",
    "    'p': (1,2),\n",
    "    'weights': ('uniform', 'distance'),\n",
    "    'metric': ('minkowski', 'chebyshev', 'euclidean', 'manhattan')\n",
    "    }\n",
    "gs_knn = GridSearchCV(knn, param_grid, cv=skf, n_jobs=-1, verbose=1).fit(X_train,y_train)"
   ]
  },
  {
   "cell_type": "code",
   "execution_count": 33,
   "metadata": {
    "colab": {
     "base_uri": "https://localhost:8080/"
    },
    "id": "uLdw0sBPQZy7",
    "outputId": "41ea383f-e926-45be-b267-5e02cf7611b3"
   },
   "outputs": [
    {
     "name": "stdout",
     "output_type": "stream",
     "text": [
      "Mejores parámetros {'leaf_size': 20, 'metric': 'minkowski', 'n_neighbors': 10, 'p': 1, 'weights': 'distance'}\n",
      "Mejor estimador KNeighborsClassifier(leaf_size=20, n_neighbors=10, p=1, weights='distance')\n"
     ]
    }
   ],
   "source": [
    "print(\"Mejores parámetros\", gs_knn.best_params_)\n",
    "print(\"Mejor estimador\", gs_knn.best_estimator_)"
   ]
  },
  {
   "cell_type": "code",
   "execution_count": 34,
   "metadata": {
    "colab": {
     "base_uri": "https://localhost:8080/"
    },
    "id": "nv-2Mj605xxA",
    "outputId": "23d6cab7-6d83-481b-9c8a-5182eaeecd1e",
    "scrolled": true
   },
   "outputs": [
    {
     "data": {
      "text/plain": [
       "array([2, 0, 1, ..., 0, 1, 2], dtype=uint16)"
      ]
     },
     "execution_count": 34,
     "metadata": {},
     "output_type": "execute_result"
    }
   ],
   "source": [
    "knn = KNeighborsClassifier(leaf_size=20, n_neighbors=10, p=1, weights='distance', metric='minkowski')\n",
    "\n",
    "init_knn= time.time()\n",
    "knn.fit(X_train,y_train)\n",
    "time_knn=time.time()-init_knn\n",
    "knn_y_pred = knn.predict(X_test)\n",
    "knn_y_pred"
   ]
  },
  {
   "cell_type": "code",
   "execution_count": 35,
   "metadata": {
    "colab": {
     "base_uri": "https://localhost:8080/"
    },
    "id": "a-RqWJYg9fJj",
    "outputId": "3b779097-c808-4310-dd03-ed9d7dd38ba1",
    "scrolled": true
   },
   "outputs": [
    {
     "name": "stdout",
     "output_type": "stream",
     "text": [
      "Matriz de Confusión:\n",
      "[[ 669  125  195]\n",
      " [  23 1306   96]\n",
      " [  85  248  662]]\n"
     ]
    }
   ],
   "source": [
    "matriz_knn = confusion_matrix(y_test, knn_y_pred)\n",
    "print('Matriz de Confusión:')\n",
    "print(matriz_knn)"
   ]
  },
  {
   "cell_type": "code",
   "execution_count": 36,
   "metadata": {
    "colab": {
     "base_uri": "https://localhost:8080/",
     "height": 350
    },
    "id": "1X3Y_GGP-kPW",
    "outputId": "91e593dc-8d7f-426b-fa1d-bc30142d9210",
    "scrolled": true
   },
   "outputs": [
    {
     "data": {
      "text/plain": [
       "Text(0.5, 15.0, 'Predicción')"
      ]
     },
     "execution_count": 36,
     "metadata": {},
     "output_type": "execute_result"
    },
    {
     "data": {
      "image/png": "[encoded data removed]",
      "text/plain": [
       "<Figure size 432x288 with 2 Axes>"
      ]
     },
     "metadata": {},
     "output_type": "display_data"
    }
   ],
   "source": [
    "sns.heatmap(pd.DataFrame(matriz_knn), annot=True, cmap=\"YlGnBu\" ,fmt='g')\n",
    "plt.tight_layout()\n",
    "plt.title('Matriz de confusión', y=1.1)\n",
    "plt.ylabel('Real')\n",
    "plt.xlabel('Predicción')"
   ]
  },
  {
   "cell_type": "code",
   "execution_count": 37,
   "metadata": {
    "colab": {
     "base_uri": "https://localhost:8080/"
    },
    "id": "dNVQUVkh-wSb",
    "outputId": "65f7198f-3c7e-4384-f551-b3c4ae286953",
    "scrolled": true
   },
   "outputs": [
    {
     "name": "stdout",
     "output_type": "stream",
     "text": [
      "Precisión del modelo:\n",
      "0.7735406277500734\n",
      "Exactitud del modelo:\n",
      "0.7735406277500734\n",
      "Exhaustividad del modelo:\n",
      "0.7735406277500734\n",
      "Valor F1 del modelo:\n",
      "0.7735406277500734\n"
     ]
    }
   ],
   "source": [
    "precision_knn = precision_score(y_test, knn_y_pred,average='micro')\n",
    "print('Precisión del modelo:')\n",
    "print(precision_knn)\n",
    "\n",
    "accuracy_knn = accuracy_score(y_test, knn_y_pred)\n",
    "print('Exactitud del modelo:')\n",
    "print(accuracy_knn)\n",
    "\n",
    "recall_knn = recall_score(y_test, knn_y_pred, average='micro')\n",
    "print('Exhaustividad del modelo:')\n",
    "print(recall_knn)\n",
    "\n",
    "f1_knn = f1_score(y_test, knn_y_pred, average='micro')\n",
    "print('Valor F1 del modelo:')\n",
    "print(f1_knn)"
   ]
  },
  {
   "cell_type": "code",
   "execution_count": 38,
   "metadata": {
    "colab": {
     "base_uri": "https://localhost:8080/"
    },
    "id": "_I7qa1roUW9H",
    "outputId": "d0cf563c-9813-497e-d0ff-5c8627185f4f",
    "scrolled": true
   },
   "outputs": [
    {
     "name": "stdout",
     "output_type": "stream",
     "text": [
      "              precision    recall  f1-score   support\n",
      "\n",
      "           0       0.86      0.68      0.76       989\n",
      "           1       0.78      0.92      0.84      1425\n",
      "           2       0.69      0.67      0.68       995\n",
      "\n",
      "    accuracy                           0.77      3409\n",
      "   macro avg       0.78      0.75      0.76      3409\n",
      "weighted avg       0.78      0.77      0.77      3409\n",
      "\n"
     ]
    }
   ],
   "source": [
    "clas_knn = classification_report(y_test, knn_y_pred, zero_division = 1)\n",
    "print(clas_knn)"
   ]
  },
  {
   "cell_type": "code",
   "execution_count": 39,
   "metadata": {
    "colab": {
     "base_uri": "https://localhost:8080/"
    },
    "id": "G4PRyzP5QzZj",
    "outputId": "61eab3a3-2d06-405c-9658-0af1fe3a5bc5",
    "scrolled": true
   },
   "outputs": [
    {
     "name": "stdout",
     "output_type": "stream",
     "text": [
      "tiempo de entrenamiento Regresión logística :  0.0\n",
      "tiempo de entrenamiento Random Forest: 0.0705733855565389\n",
      "tiempo de entrenaiento SVM : 0.04453826347986857\n",
      "tiempo de entrenamiento KNN :  6.6681702931722e-05\n"
     ]
    }
   ],
   "source": [
    "#tiempo de entrenamiento Regresión logística\n",
    "print(\"tiempo de entrenamiento Regresión logística : \", time_lr/60)\n",
    "#tiempo de entrenamiento Random Forest\n",
    "print(\"tiempo de entrenamiento Random Forest:\" , time_rf/60)\n",
    "#tiempo de entrenamiento SVM\n",
    "print(\"tiempo de entrenaiento SVM :\",time_svm/60)\n",
    "#tiempo de entrenamiento KNN\n",
    "print(\"tiempo de entrenamiento KNN : \", time_knn/60)"
   ]
  }
 ],
 "metadata": {
  "colab": {
   "collapsed_sections": [],
   "name": "Modelos_Clasificación.ipynb",
   "provenance": []
  },
  "kernelspec": {
   "display_name": "Python 3 (ipykernel)",
   "language": "python",
   "name": "python3"
  },
  "language_info": {
   "codemirror_mode": {
    "name": "ipython",
    "version": 3
   },
   "file_extension": ".py",
   "mimetype": "text/x-python",
   "name": "python",
   "nbconvert_exporter": "python",
   "pygments_lexer": "ipython3",
   "version": "3.9.7"
  }
 },
 "nbformat": 4,
 "nbformat_minor": 1
}
